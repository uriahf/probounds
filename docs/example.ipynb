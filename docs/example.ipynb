{
    "cells": [
        {
            "cell_type": "markdown",
            "metadata": {},
            "source": [
                "# Example usage\n",
                "\n",
                "To use `probounds` in a project:"
            ]
        },
        {
            "cell_type": "code",
            "execution_count": 2,
            "metadata": {},
            "outputs": [],
            "source": [
                "import probounds.probounds as pb\n",
                "import pandas as pd\n",
                "import numpy as np"
            ]
        },
        {
            "cell_type": "code",
            "execution_count": 3,
            "metadata": {},
            "outputs": [],
            "source": [
                "df_observed = pd.DataFrame({\n",
                "    'trt': np.concatenate([np.repeat(1, 1400), np.repeat(0, 600)] * 2)  ,\n",
                "    'outcome': [1] * 378 + [0] * 1022 + [1] * 420 + [0] * 180 +\n",
                "            [1] * 980 + [0] * 420 + [1] * 420 + [0] * 180,\n",
                "    'sex': ['Female'] * 2000 + ['Male']* 2000\n",
                "})\n",
                "\n",
                "df_experimental = pd.DataFrame({\n",
                "    'trt': np.concatenate([np.repeat(1, 1000), np.repeat(0, 1000)] * 2)  ,\n",
                "    'outcome': [1] * 489  + [0] * 511 + [1] * 210 + [0] * 790 +\n",
                "            [1] * 490 + [0] * 510 + [1] * 210 + [0] * 790,\n",
                "    'sex': ['Female'] * 2000 + ['Male']* 2000\n",
                "})\n",
                "\n",
                "probounds_crosstab_observed = pb.create_probounds_crosstab(df_observed, datatype=\"observational\")\n",
                "probounds_crosstab_experimental = pb.create_probounds_crosstab(df_experimental, datatype=\"experimental\")\n"
            ]
        },
        {
            "cell_type": "code",
            "execution_count": 4,
            "metadata": {},
            "outputs": [],
            "source": [
                "probounds_crosstab_observed = pb.create_probounds_crosstab(df_observed, datatype=\"observational\")\n",
                "probounds_crosstab_experimental = pb.create_probounds_crosstab(df_experimental, datatype=\"experimental\")\n",
                "\n",
                "\n",
                "probounds_crosstab_observed_by_sex = pb.probounds_crosstab_feature(\n",
                "    df_observed, \"observational\", 'sex')\n",
                "probounds_crosstab_experimental_by_sex = pb.probounds_crosstab_feature(\n",
                "    df_experimental, \"experimental\", 'sex')\n"
            ]
        },
        {
            "cell_type": "code",
            "execution_count": 5,
            "metadata": {},
            "outputs": [
                {
                    "name": "stdout",
                    "output_type": "stream",
                    "text": [
                        "Benefit Bounds: 0 <= Benefit <= 0.4295\n",
                        "Benefit Bounds: 0 <= Benefit <= 0.279\n",
                        "Benefit Bounds: 0 <= Benefit <= 0.58\n",
                        "Benefit Bounds: 0.27949999999999997 <= Benefit <= 0.4895\n",
                        "Benefit Bounds: 0.279 <= Benefit <= 0.489\n",
                        "Benefit Bounds: 0.28 <= Benefit <= 0.49\n"
                    ]
                },
                {
                    "data": {
                        "text/plain": [
                            "{'lower_bound': 0.28, 'upper_bound': 0.49}"
                        ]
                    },
                    "execution_count": 5,
                    "metadata": {},
                    "output_type": "execute_result"
                }
            ],
            "source": [
                "pb.calculate_bounds_observed_from_probounds_data(probounds_crosstab_observed)\n",
                "pb.calculate_bounds_observed_from_probounds_data(probounds_crosstab_observed_by_sex['Female'])\n",
                "pb.calculate_bounds_observed_from_probounds_data(probounds_crosstab_observed_by_sex['Male'])\n",
                "\n",
                "pb.calculate_bounds_experimental_from_probounds_data(probounds_crosstab_experimental)\n",
                "pb.calculate_bounds_experimental_from_probounds_data(probounds_crosstab_experimental_by_sex['Female'])\n",
                "pb.calculate_bounds_experimental_from_probounds_data(probounds_crosstab_experimental_by_sex['Male'])"
            ]
        },
        {
            "cell_type": "code",
            "execution_count": null,
            "metadata": {},
            "outputs": [],
            "source": [
                "pb.calculate_bounds_combined(df_observed, df_experimental)\n",
                "pb.calculate_bounds_combined(df_observed[df_observed['sex'] == 'Female'], df_experimental[df_experimental['sex'] == 'Female'])\n",
                "pb.calculate_bounds_combined(df_observed[df_observed['sex'] == 'Male'], df_experimental[df_experimental['sex'] == 'Male'])\n"
            ]
        }
    ],
    "metadata": {
        "kernelspec": {
            "display_name": "probounds_env",
            "language": "python",
            "name": "python3"
        },
        "language_info": {
            "codemirror_mode": {
                "name": "ipython",
                "version": 3
            },
            "file_extension": ".py",
            "mimetype": "text/x-python",
            "name": "python",
            "nbconvert_exporter": "python",
            "pygments_lexer": "ipython3",
            "version": "3.9.21"
        }
    },
    "nbformat": 4,
    "nbformat_minor": 4
}
