{
 "cells": [
  {
   "cell_type": "markdown",
   "metadata": {},
   "source": [
    "# Example usage\n",
    "\n",
    "To use `probounds` in a project:"
   ]
  },
  {
   "cell_type": "code",
   "execution_count": 14,
   "metadata": {},
   "outputs": [],
   "source": [
    "import probounds.probounds as pb\n",
    "import pandas as pd\n",
    "import numpy as np"
   ]
  },
  {
   "cell_type": "code",
   "execution_count": 15,
   "metadata": {},
   "outputs": [],
   "source": [
    "df_observed = pd.DataFrame(\n",
    "    {\n",
    "        \"trt\": np.concatenate([np.repeat(1, 1400), np.repeat(0, 600)] * 2),\n",
    "        \"outcome\": [1] * 378\n",
    "        + [0] * 1022\n",
    "        + [1] * 420\n",
    "        + [0] * 180\n",
    "        + [1] * 980\n",
    "        + [0] * 420\n",
    "        + [1] * 420\n",
    "        + [0] * 180,\n",
    "        \"sex\": [\"Female\"] * 2000 + [\"Male\"] * 2000,\n",
    "    }\n",
    ")\n",
    "\n",
    "df_experimental = pd.DataFrame(\n",
    "    {\n",
    "        \"trt\": np.concatenate([np.repeat(1, 1000), np.repeat(0, 1000)] * 2),\n",
    "        \"outcome\": [1] * 489\n",
    "        + [0] * 511\n",
    "        + [1] * 210\n",
    "        + [0] * 790\n",
    "        + [1] * 490\n",
    "        + [0] * 510\n",
    "        + [1] * 210\n",
    "        + [0] * 790,\n",
    "        \"sex\": [\"Female\"] * 2000 + [\"Male\"] * 2000,\n",
    "    }\n",
    ")\n",
    "\n",
    "probounds_crosstab_observed = pb.create_probounds_crosstab(\n",
    "    df_observed, datatype=\"observational\"\n",
    ")\n",
    "probounds_crosstab_experimental = pb.create_probounds_crosstab(\n",
    "    df_experimental, datatype=\"experimental\"\n",
    ")"
   ]
  },
  {
   "cell_type": "code",
   "execution_count": 16,
   "metadata": {},
   "outputs": [],
   "source": [
    "probounds_crosstab_observed = pb.create_probounds_crosstab(\n",
    "    df_observed, datatype=\"observational\"\n",
    ")\n",
    "probounds_crosstab_experimental = pb.create_probounds_crosstab(\n",
    "    df_experimental, datatype=\"experimental\"\n",
    ")\n",
    "\n",
    "\n",
    "probounds_crosstab_observed_by_sex = pb.probounds_crosstab_feature(\n",
    "    df_observed, \"observational\", \"sex\"\n",
    ")\n",
    "probounds_crosstab_experimental_by_sex = pb.probounds_crosstab_feature(\n",
    "    df_experimental, \"experimental\", \"sex\"\n",
    ")"
   ]
  },
  {
   "cell_type": "code",
   "execution_count": 17,
   "metadata": {},
   "outputs": [
    {
     "name": "stdout",
     "output_type": "stream",
     "text": [
      "Benefit Bounds: 0 <= Benefit <= 0.4295\n",
      "Benefit Bounds: 0 <= Benefit <= 0.279\n",
      "Benefit Bounds: 0 <= Benefit <= 0.58\n",
      "Benefit Bounds: 0.27949999999999997 <= Benefit <= 0.4895\n",
      "Benefit Bounds: 0.279 <= Benefit <= 0.489\n",
      "Benefit Bounds: 0.28 <= Benefit <= 0.49\n"
     ]
    },
    {
     "data": {
      "text/plain": [
       "{'lower_bound': np.float64(0.28), 'upper_bound': np.float64(0.49)}"
      ]
     },
     "execution_count": 17,
     "metadata": {},
     "output_type": "execute_result"
    }
   ],
   "source": [
    "pb.calculate_bounds_observed_from_probounds_data(probounds_crosstab_observed)\n",
    "pb.calculate_bounds_observed_from_probounds_data(\n",
    "    probounds_crosstab_observed_by_sex[\"Female\"]\n",
    ")\n",
    "pb.calculate_bounds_observed_from_probounds_data(\n",
    "    probounds_crosstab_observed_by_sex[\"Male\"]\n",
    ")\n",
    "\n",
    "pb.calculate_bounds_experimental_from_probounds_data(probounds_crosstab_experimental)\n",
    "pb.calculate_bounds_experimental_from_probounds_data(\n",
    "    probounds_crosstab_experimental_by_sex[\"Female\"]\n",
    ")\n",
    "pb.calculate_bounds_experimental_from_probounds_data(\n",
    "    probounds_crosstab_experimental_by_sex[\"Male\"]\n",
    ")"
   ]
  },
  {
   "cell_type": "markdown",
   "metadata": {},
   "source": [
    "## Calculate Bounds Directly from Data"
   ]
  },
  {
   "cell_type": "markdown",
   "metadata": {},
   "source": [
    "### Observational Data"
   ]
  },
  {
   "cell_type": "code",
   "execution_count": 18,
   "metadata": {},
   "outputs": [
    {
     "name": "stdout",
     "output_type": "stream",
     "text": [
      "Benefit Bounds: 0 <= Benefit <= 0.4295\n"
     ]
    },
    {
     "ename": "AttributeError",
     "evalue": "module 'probounds.probounds' has no attribute 'calculate_bounds_observed_by_feature'",
     "output_type": "error",
     "traceback": [
      "\u001b[1;31m---------------------------------------------------------------------------\u001b[0m",
      "\u001b[1;31mAttributeError\u001b[0m                            Traceback (most recent call last)",
      "Cell \u001b[1;32mIn[18], line 2\u001b[0m\n\u001b[0;32m      1\u001b[0m pb\u001b[38;5;241m.\u001b[39mcalculate_bounds_observed(df_observed)\n\u001b[1;32m----> 2\u001b[0m \u001b[43mpb\u001b[49m\u001b[38;5;241;43m.\u001b[39;49m\u001b[43mcalculate_bounds_observed_by_feature\u001b[49m(df_observed, \u001b[38;5;124m'\u001b[39m\u001b[38;5;124msex\u001b[39m\u001b[38;5;124m'\u001b[39m)\n",
      "\u001b[1;31mAttributeError\u001b[0m: module 'probounds.probounds' has no attribute 'calculate_bounds_observed_by_feature'"
     ]
    }
   ],
   "source": [
    "pb.calculate_bounds_observed(df_observed)\n",
    "pb.calculate_bounds_observed_by_feature(df_observed, \"sex\")"
   ]
  },
  {
   "cell_type": "markdown",
   "metadata": {},
   "source": [
    "### Experimental Data"
   ]
  },
  {
   "cell_type": "code",
   "execution_count": null,
   "metadata": {},
   "outputs": [
    {
     "name": "stdout",
     "output_type": "stream",
     "text": [
      "Benefit Bounds: 0 <= Benefit <= 1.2795\n",
      "Benefit Bounds: 0 <= Benefit <= 1.279\n",
      "Benefit Bounds: 0 <= Benefit <= 1.28\n"
     ]
    },
    {
     "data": {
      "text/plain": [
       "{'lower_bound': 0, 'upper_bound': np.float64(1.28)}"
      ]
     },
     "execution_count": 6,
     "metadata": {},
     "output_type": "execute_result"
    }
   ],
   "source": [
    "pb.calculate_bounds_experimental(df_experimental)\n",
    "pb.calculate_bounds_experimental(df_experimental[df_experimental[\"sex\"] == \"Female\"])\n",
    "pb.calculate_bounds_experimental(df_experimental[df_experimental[\"sex\"] == \"Male\"])"
   ]
  },
  {
   "cell_type": "markdown",
   "metadata": {},
   "source": [
    "### Combined Data"
   ]
  },
  {
   "cell_type": "code",
   "execution_count": 7,
   "metadata": {},
   "outputs": [
    {
     "data": {
      "text/plain": [
       "{'lower_bound': np.float64(0.49), 'upper_bound': np.float64(0.49)}"
      ]
     },
     "execution_count": 7,
     "metadata": {},
     "output_type": "execute_result"
    }
   ],
   "source": [
    "pb.calculate_bounds_combined(df_observed, df_experimental)\n",
    "pb.calculate_bounds_combined(\n",
    "    df_observed[df_observed[\"sex\"] == \"Female\"],\n",
    "    df_experimental[df_experimental[\"sex\"] == \"Female\"],\n",
    ")\n",
    "pb.calculate_bounds_combined(\n",
    "    df_observed[df_observed[\"sex\"] == \"Male\"],\n",
    "    df_experimental[df_experimental[\"sex\"] == \"Male\"],\n",
    ")"
   ]
  },
  {
   "cell_type": "markdown",
   "metadata": {},
   "source": [
    "## Calculate Bounds by Feature"
   ]
  },
  {
   "cell_type": "code",
   "execution_count": null,
   "metadata": {},
   "outputs": [
    {
     "name": "stdout",
     "output_type": "stream",
     "text": [
      "Benefit Bounds: 0.279 <= Benefit|Female <= 0.279\n",
      "Benefit Bounds: 0.49 <= Benefit|Male <= 0.49\n"
     ]
    },
    {
     "data": {
      "text/plain": [
       "{'Female': {'lower_bound': np.float64(0.279),\n",
       "  'upper_bound': np.float64(0.279)},\n",
       " 'Male': {'lower_bound': np.float64(0.49), 'upper_bound': np.float64(0.49)}}"
      ]
     },
     "execution_count": 8,
     "metadata": {},
     "output_type": "execute_result"
    }
   ],
   "source": [
    "pb.calculate_bounds_combined_by_feature(df_observed, df_experimental, \"sex\")"
   ]
  }
 ],
 "metadata": {
  "kernelspec": {
   "display_name": "probounds_env",
   "language": "python",
   "name": "python3"
  },
  "language_info": {
   "codemirror_mode": {
    "name": "ipython",
    "version": 3
   },
   "file_extension": ".py",
   "mimetype": "text/x-python",
   "name": "python",
   "nbconvert_exporter": "python",
   "pygments_lexer": "ipython3",
   "version": "3.9.21"
  }
 },
 "nbformat": 4,
 "nbformat_minor": 4
}
